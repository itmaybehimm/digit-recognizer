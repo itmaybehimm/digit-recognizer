{
 "cells": [
  {
   "cell_type": "code",
   "execution_count": 4,
   "id": "3be7c361",
   "metadata": {},
   "outputs": [],
   "source": [
    "import numpy as np\n",
    "import pandas as pd"
   ]
  },
  {
   "cell_type": "code",
   "execution_count": 5,
   "id": "51a4b5bf",
   "metadata": {},
   "outputs": [
    {
     "name": "stdout",
     "output_type": "stream",
     "text": [
      "One or more file not found for paramters\n"
     ]
    }
   ],
   "source": [
    "global W_3,B_3,W_2,B_2,W_1,B_1\n",
    "try:\n",
    "    #if any file is not found to load biases and wights just reset parameters\n",
    "    W_3=np.load('W_3.npy')\n",
    "    W_2=np.load('W_2.npy')\n",
    "    W_1=np.load('W_1.npy')\n",
    "    B_3=np.load('B_3.npy')\n",
    "    B_2=np.load('B_2.npy')\n",
    "    B_1=np.load('B_1.npy')\n",
    "except:\n",
    "    print(\"One or more file not found for paramters\")"
   ]
  },
  {
   "cell_type": "code",
   "execution_count": null,
   "id": "f225578b",
   "metadata": {},
   "outputs": [],
   "source": [
    "data= pd.read_csv(\"./test.csv\")\n",
    "data = data.to_numpy()\n",
    "n,m = data.shape\n",
    "Y_test = data[0]\n",
    "X_test = data[1:m]\n",
    "Y_test = one_hot(Y_test)"
   ]
  },
  {
   "cell_type": "code",
   "execution_count": null,
   "id": "b55d12f6",
   "metadata": {},
   "outputs": [],
   "source": [
    "m1,n1 = X_test.shape\n",
    "m2,n2 = Y_test.shape\n",
    "index =  random.randint(0,n2) #get nth data set from test set\n",
    "plot_data = X_test[:,index].reshape(28,28)\n",
    "X_data = X_test[:,index].reshape(m1,1) #we need values along columns\n",
    "Y_data = Y_test[:,index].reshape(m2,1)\n",
    "A_3_OUT = network_function_test(X_data)\n",
    "print(\"Prediction: \",get_predicitons(A_3_OUT))\n",
    "print(\"Actual label: \",np.argmax(Y_data,0))\n",
    "plot_data = plot_data * 255\n",
    "plt.gray()\n",
    "plt.imshow(plot_data,interpolation=\"nearest\")\n",
    "plt.show()"
   ]
  }
 ],
 "metadata": {
  "kernelspec": {
   "display_name": "Python 3 (ipykernel)",
   "language": "python",
   "name": "python3"
  },
  "language_info": {
   "codemirror_mode": {
    "name": "ipython",
    "version": 3
   },
   "file_extension": ".py",
   "mimetype": "text/x-python",
   "name": "python",
   "nbconvert_exporter": "python",
   "pygments_lexer": "ipython3",
   "version": "3.9.7"
  }
 },
 "nbformat": 4,
 "nbformat_minor": 5
}
