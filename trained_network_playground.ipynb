{
 "cells": [
  {
   "cell_type": "markdown",
   "id": "6320a6a0",
   "metadata": {},
   "source": [
    "<h1>Run everything</h1>"
   ]
  },
  {
   "cell_type": "code",
   "execution_count": 1,
   "id": "e960f133",
   "metadata": {},
   "outputs": [],
   "source": [
    "import numpy as np\n",
    "import pandas as pd\n",
    "from matplotlib import pyplot as plt\n",
    "import warnings\n",
    "import random"
   ]
  },
  {
   "cell_type": "code",
   "execution_count": 2,
   "id": "ce4e0065",
   "metadata": {},
   "outputs": [],
   "source": [
    "global W_3,B_3,W_2,B_2,W_1,B_1\n",
    "try:\n",
    "    W_3=np.load('W_3.npy')\n",
    "    W_2=np.load('W_2.npy')\n",
    "    W_1=np.load('W_1.npy')\n",
    "    B_3=np.load('B_3.npy')\n",
    "    B_2=np.load('B_2.npy')\n",
    "    B_1=np.load('B_1.npy')\n",
    "except:\n",
    "    print(\"One or more file not found for paramters\")"
   ]
  },
  {
   "cell_type": "code",
   "execution_count": 3,
   "id": "6d24f696",
   "metadata": {},
   "outputs": [],
   "source": [
    "def sig(x):\n",
    "    with warnings.catch_warnings():\n",
    "        warnings.filterwarnings(\"ignore\", category=RuntimeWarning)\n",
    "        result = 1 / (1 + np.exp(-x))\n",
    "    return result\n",
    "\n",
    "def d_sig(x):\n",
    "    with warnings.catch_warnings():\n",
    "        warnings.filterwarnings(\"ignore\", category=RuntimeWarning)\n",
    "        result = (sig(x)*(1-sig(x)))\n",
    "    return result\n",
    "\n",
    "def get_predicitons(A3):\n",
    "    #if A3 is\n",
    "    # 0.3 0.5 1.2 ... \n",
    "    # 0.4 0.1 0.6 ...  ^\n",
    "    # 0.2 1.3 0.4 ...  | axis 0 max value index\n",
    "    #gives[1,2,0] perdictions of each column\n",
    "    return np.argmax(A3,0)\n",
    "\n",
    "def network_function_test(X):\n",
    "    global W_3,B_3,W_2,B_2,W_1,B_1\n",
    "    A_0 = X\n",
    "    Z_1 = W_1@A_0 +B_1\n",
    "    A_1 = sig(Z_1)\n",
    "    Z_2 = W_2@A_1 +B_2\n",
    "    A_2 = sig(Z_2)\n",
    "    Z_3 = W_3@A_2 +B_3 \n",
    "    #A_3 is actual output\n",
    "    A_3 = sig(Z_3)\n",
    "    return A_3    \n",
    "\n",
    "def one_hot(Y):\n",
    "    one_hot_Y = np.zeros((Y.size,Y.max()+1))\n",
    "    one_hot_Y[np.arange(Y.size),Y]=1\n",
    "    one_hot_Y = one_hot_Y.T\n",
    "    return one_hot_Y"
   ]
  },
  {
   "cell_type": "code",
   "execution_count": 4,
   "id": "e258c43e",
   "metadata": {},
   "outputs": [],
   "source": [
    "data= pd.read_csv(\"./test.csv\")\n",
    "data = data.to_numpy()\n",
    "n,m = data.shape\n",
    "X_test = data.T"
   ]
  },
  {
   "cell_type": "code",
   "execution_count": 9,
   "id": "3176e0a6",
   "metadata": {},
   "outputs": [
    {
     "name": "stdout",
     "output_type": "stream",
     "text": [
      "Prediction:  [1]\n"
     ]
    },
    {
     "data": {
      "image/png": "[encoded data removed]",
      "text/plain": [
       "<Figure size 640x480 with 1 Axes>"
      ]
     },
     "metadata": {},
     "output_type": "display_data"
    }
   ],
   "source": [
    "m1,n1 = X_test.shape\n",
    "index =  random.randint(0,n1) #get nth data set from test set\n",
    "plot_data = X_test[:,index].reshape(28,28)\n",
    "X_data = X_test[:,index].reshape(m1,1) #we need values along columns\n",
    "A_3_OUT = network_function_test(X_data)\n",
    "print(\"Prediction: \",get_predicitons(A_3_OUT))\n",
    "plot_data = plot_data * 255\n",
    "plt.gray()\n",
    "plt.imshow(plot_data,interpolation=\"nearest\")\n",
    "plt.show()"
   ]
  }
 ],
 "metadata": {
  "kernelspec": {
   "display_name": "Python 3 (ipykernel)",
   "language": "python",
   "name": "python3"
  },
  "language_info": {
   "codemirror_mode": {
    "name": "ipython",
    "version": 3
   },
   "file_extension": ".py",
   "mimetype": "text/x-python",
   "name": "python",
   "nbconvert_exporter": "python",
   "pygments_lexer": "ipython3",
   "version": "3.9.7"
  }
 },
 "nbformat": 4,
 "nbformat_minor": 5
}
