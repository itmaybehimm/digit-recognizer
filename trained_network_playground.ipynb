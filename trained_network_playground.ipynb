{
 "cells": [
  {
   "cell_type": "markdown",
   "id": "6320a6a0",
   "metadata": {},
   "source": [
    "<h1>Run everything</h1>"
   ]
  },
  {
   "cell_type": "code",
   "execution_count": 25,
   "id": "e960f133",
   "metadata": {},
   "outputs": [],
   "source": [
    "import numpy as np\n",
    "import pandas as pd\n",
    "import random"
   ]
  },
  {
   "cell_type": "code",
   "execution_count": 26,
   "id": "ce4e0065",
   "metadata": {},
   "outputs": [],
   "source": [
    "global W_3,B_3,W_2,B_2,W_1,B_1\n",
    "try:\n",
    "    W_3=np.load('W_3.npy')\n",
    "    W_2=np.load('W_2.npy')\n",
    "    W_1=np.load('W_1.npy')\n",
    "    B_3=np.load('B_3.npy')\n",
    "    B_2=np.load('B_2.npy')\n",
    "    B_1=np.load('B_1.npy')\n",
    "except:\n",
    "    print(\"One or more file not found for paramters\")"
   ]
  },
  {
   "cell_type": "code",
   "execution_count": 35,
   "id": "6d24f696",
   "metadata": {},
   "outputs": [],
   "source": [
    "def sig(x):\n",
    "    with warnings.catch_warnings():\n",
    "        warnings.filterwarnings(\"ignore\", category=RuntimeWarning)\n",
    "        result = 1 / (1 + np.exp(-x))\n",
    "    return result\n",
    "\n",
    "def d_sig(x):\n",
    "    with warnings.catch_warnings():\n",
    "        warnings.filterwarnings(\"ignore\", category=RuntimeWarning)\n",
    "        result = (sig(x)*(1-sig(x)))\n",
    "    return result\n",
    "\n",
    "def get_predicitons(A3):\n",
    "    #if A3 is\n",
    "    # 0.3 0.5 1.2 ... \n",
    "    # 0.4 0.1 0.6 ...  ^\n",
    "    # 0.2 1.3 0.4 ...  | axis 0 max value index\n",
    "    #gives[1,2,0] perdictions of each column\n",
    "    return np.argmax(A3,0)\n",
    "\n",
    "def network_function_test(X):\n",
    "    global W_3,B_3,W_2,B_2,W_1,B_1\n",
    "    A_0 = X\n",
    "    Z_1 = W_1@A_0 +B_1\n",
    "    A_1 = sig(Z_1)\n",
    "    Z_2 = W_2@A_1 +B_2\n",
    "    A_2 = sig(Z_2)\n",
    "    Z_3 = W_3@A_2 +B_3 \n",
    "    #A_3 is actual output\n",
    "    A_3 = sig(Z_3)\n",
    "    return A_3    \n",
    "\n",
    "def one_hot(Y):\n",
    "    one_hot_Y = np.zeros((Y.size,Y.max()+1))\n",
    "    one_hot_Y[np.arange(Y.size),Y]=1\n",
    "    one_hot_Y = one_hot_Y.T\n",
    "    return one_hot_Y"
   ]
  },
  {
   "cell_type": "code",
   "execution_count": 36,
   "id": "e258c43e",
   "metadata": {},
   "outputs": [],
   "source": [
    "data= pd.read_csv(\"./test.csv\")\n",
    "data = data.to_numpy()\n",
    "n,m = data.shape\n",
    "X_test = data.T"
   ]
  },
  {
   "cell_type": "code",
   "execution_count": 37,
   "id": "3176e0a6",
   "metadata": {},
   "outputs": [
    {
     "ename": "NameError",
     "evalue": "name 'warnings' is not defined",
     "output_type": "error",
     "traceback": [
      "\u001b[0;31m---------------------------------------------------------------------------\u001b[0m",
      "\u001b[0;31mNameError\u001b[0m                                 Traceback (most recent call last)",
      "Cell \u001b[0;32mIn[37], line 6\u001b[0m\n\u001b[1;32m      4\u001b[0m plot_data \u001b[38;5;241m=\u001b[39m X_test[:,index]\u001b[38;5;241m.\u001b[39mreshape(\u001b[38;5;241m28\u001b[39m,\u001b[38;5;241m28\u001b[39m)\n\u001b[1;32m      5\u001b[0m X_data \u001b[38;5;241m=\u001b[39m X_test[:,index]\u001b[38;5;241m.\u001b[39mreshape(m1,\u001b[38;5;241m1\u001b[39m) \u001b[38;5;66;03m#we need values along columns\u001b[39;00m\n\u001b[0;32m----> 6\u001b[0m A_3_OUT \u001b[38;5;241m=\u001b[39m \u001b[43mnetwork_function_test\u001b[49m\u001b[43m(\u001b[49m\u001b[43mX_data\u001b[49m\u001b[43m)\u001b[49m\n\u001b[1;32m      7\u001b[0m \u001b[38;5;28mprint\u001b[39m(\u001b[38;5;124m\"\u001b[39m\u001b[38;5;124mPrediction: \u001b[39m\u001b[38;5;124m\"\u001b[39m,get_predicitons(A_3_OUT))\n\u001b[1;32m      8\u001b[0m \u001b[38;5;28mprint\u001b[39m(\u001b[38;5;124m\"\u001b[39m\u001b[38;5;124mActual label: \u001b[39m\u001b[38;5;124m\"\u001b[39m,np\u001b[38;5;241m.\u001b[39margmax(Y_data,\u001b[38;5;241m0\u001b[39m))\n",
      "Cell \u001b[0;32mIn[35], line 25\u001b[0m, in \u001b[0;36mnetwork_function_test\u001b[0;34m(X)\u001b[0m\n\u001b[1;32m     23\u001b[0m A_0 \u001b[38;5;241m=\u001b[39m X\n\u001b[1;32m     24\u001b[0m Z_1 \u001b[38;5;241m=\u001b[39m W_1\u001b[38;5;129m@A_0\u001b[39m \u001b[38;5;241m+\u001b[39mB_1\n\u001b[0;32m---> 25\u001b[0m A_1 \u001b[38;5;241m=\u001b[39m \u001b[43msig\u001b[49m\u001b[43m(\u001b[49m\u001b[43mZ_1\u001b[49m\u001b[43m)\u001b[49m\n\u001b[1;32m     26\u001b[0m Z_2 \u001b[38;5;241m=\u001b[39m W_2\u001b[38;5;129m@A_1\u001b[39m \u001b[38;5;241m+\u001b[39mB_2\n\u001b[1;32m     27\u001b[0m A_2 \u001b[38;5;241m=\u001b[39m sig(Z_2)\n",
      "Cell \u001b[0;32mIn[35], line 2\u001b[0m, in \u001b[0;36msig\u001b[0;34m(x)\u001b[0m\n\u001b[1;32m      1\u001b[0m \u001b[38;5;28;01mdef\u001b[39;00m \u001b[38;5;21msig\u001b[39m(x):\n\u001b[0;32m----> 2\u001b[0m     \u001b[38;5;28;01mwith\u001b[39;00m \u001b[43mwarnings\u001b[49m\u001b[38;5;241m.\u001b[39mcatch_warnings():\n\u001b[1;32m      3\u001b[0m         warnings\u001b[38;5;241m.\u001b[39mfilterwarnings(\u001b[38;5;124m\"\u001b[39m\u001b[38;5;124mignore\u001b[39m\u001b[38;5;124m\"\u001b[39m, category\u001b[38;5;241m=\u001b[39m\u001b[38;5;167;01mRuntimeWarning\u001b[39;00m)\n\u001b[1;32m      4\u001b[0m         result \u001b[38;5;241m=\u001b[39m \u001b[38;5;241m1\u001b[39m \u001b[38;5;241m/\u001b[39m (\u001b[38;5;241m1\u001b[39m \u001b[38;5;241m+\u001b[39m np\u001b[38;5;241m.\u001b[39mexp(\u001b[38;5;241m-\u001b[39mx))\n",
      "\u001b[0;31mNameError\u001b[0m: name 'warnings' is not defined"
     ]
    }
   ],
   "source": [
    "m1,n1 = X_test.shape\n",
    "m2,n2 = Y_test.shape\n",
    "index =  random.randint(0,n2) #get nth data set from test set\n",
    "plot_data = X_test[:,index].reshape(28,28)\n",
    "X_data = X_test[:,index].reshape(m1,1) #we need values along columns\n",
    "A_3_OUT = network_function_test(X_data)\n",
    "print(\"Prediction: \",get_predicitons(A_3_OUT))\n",
    "print(\"Actual label: \",np.argmax(Y_data,0))\n",
    "plot_data = plot_data * 255\n",
    "plt.gray()\n",
    "plt.imshow(plot_data,interpolation=\"nearest\")\n",
    "plt.show()"
   ]
  },
  {
   "cell_type": "code",
   "execution_count": null,
   "id": "1d29d261",
   "metadata": {},
   "outputs": [],
   "source": []
  }
 ],
 "metadata": {
  "kernelspec": {
   "display_name": "Python 3 (ipykernel)",
   "language": "python",
   "name": "python3"
  },
  "language_info": {
   "codemirror_mode": {
    "name": "ipython",
    "version": 3
   },
   "file_extension": ".py",
   "mimetype": "text/x-python",
   "name": "python",
   "nbconvert_exporter": "python",
   "pygments_lexer": "ipython3",
   "version": "3.9.7"
  }
 },
 "nbformat": 4,
 "nbformat_minor": 5
}
